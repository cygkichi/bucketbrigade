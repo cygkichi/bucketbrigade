{
  "nbformat": 4,
  "nbformat_minor": 0,
  "metadata": {
    "colab": {
      "name": "smartmill_ver04",
      "version": "0.3.2",
      "provenance": [],
      "collapsed_sections": [],
      "include_colab_link": true
    },
    "kernelspec": {
      "name": "python3",
      "display_name": "Python 3"
    },
    "accelerator": "GPU"
  },
  "cells": [
    {
      "cell_type": "markdown",
      "metadata": {
        "id": "view-in-github",
        "colab_type": "text"
      },
      "source": [
        "<a href=\"https://colab.research.google.com/github/cygkichi/bucketbrigade/blob/master/smartmill_ver04.ipynb\" target=\"_parent\"><img src=\"https://colab.research.google.com/assets/colab-badge.svg\" alt=\"Open In Colab\"/></a>"
      ]
    },
    {
      "metadata": {
        "id": "hBD3s274ezck",
        "colab_type": "text"
      },
      "cell_type": "markdown",
      "source": [
        "<img height=\"60px\" src=\"/img/colab_favicon.ico\" align=\"left\" hspace=\"20px\" vspace=\"5px\">\n",
        "\n",
        "## スマートミル(Smart Mill)へようこそ\n",
        "\n",
        "Smart Mill はコーヒーミル内の状態を音声から推測します。"
      ]
    },
    {
      "metadata": {
        "id": "pSO8Wi2afIOF",
        "colab_type": "text"
      },
      "cell_type": "markdown",
      "source": [
        "## セットアップ"
      ]
    },
    {
      "metadata": {
        "id": "AFmQQWm7fN6W",
        "colab_type": "text"
      },
      "cell_type": "markdown",
      "source": [
        "### 音声データのインポート"
      ]
    },
    {
      "metadata": {
        "id": "RUANpsPFvrQY",
        "colab_type": "code",
        "outputId": "e5dd9810-4628-47b4-e0a2-b477a0fa5a4d",
        "colab": {
          "base_uri": "https://localhost:8080/",
          "height": 289
        }
      },
      "cell_type": "code",
      "source": [
        "from google.colab import drive\n",
        "drive.mount('/content/drive')\n",
        "!ls /content/drive/My\\ Drive/smartmill/dryer_sample"
      ],
      "execution_count": 10,
      "outputs": [
        {
          "output_type": "stream",
          "text": [
            "Drive already mounted at /content/drive; to attempt to forcibly remount, call drive.mount(\"/content/drive\", force_remount=True).\n",
            "cold_01_01.wav\tcold_01_16.wav\tcold_02_09.wav\t turbo_01_14.wav\n",
            "cold_01_02.wav\tcold_01_17.wav\tcold_02_10.wav\t turbo_01_15.wav\n",
            "cold_01_03.wav\tcold_01_18.wav\tturbo_01_01.wav  turbo_01_16.wav\n",
            "cold_01_04.wav\tcold_01_19.wav\tturbo_01_02.wav  turbo_02_01.wav\n",
            "cold_01_05.wav\tcold_01_20.wav\tturbo_01_03.wav  turbo_02_02.wav\n",
            "cold_01_06.wav\tcold_01_21.wav\tturbo_01_04.wav  turbo_02_03.wav\n",
            "cold_01_07.wav\tcold_01_22.wav\tturbo_01_05.wav  turbo_02_04.wav\n",
            "cold_01_08.wav\tcold_02_01.wav\tturbo_01_06.wav  turbo_02_05.wav\n",
            "cold_01_09.wav\tcold_02_02.wav\tturbo_01_07.wav  turbo_02_06.wav\n",
            "cold_01_10.wav\tcold_02_03.wav\tturbo_01_08.wav  turbo_02_07.wav\n",
            "cold_01_11.wav\tcold_02_04.wav\tturbo_01_09.wav  turbo_02_08.wav\n",
            "cold_01_12.wav\tcold_02_05.wav\tturbo_01_10.wav  turbo_02_09.wav\n",
            "cold_01_13.wav\tcold_02_06.wav\tturbo_01_11.wav\n",
            "cold_01_14.wav\tcold_02_07.wav\tturbo_01_12.wav\n",
            "cold_01_15.wav\tcold_02_08.wav\tturbo_01_13.wav\n"
          ],
          "name": "stdout"
        }
      ]
    },
    {
      "metadata": {
        "id": "kCm9QyiZfup2",
        "colab_type": "text"
      },
      "cell_type": "markdown",
      "source": [
        "### 必要ライブラリのインポート"
      ]
    },
    {
      "metadata": {
        "id": "A7k1n6-43R6c",
        "colab_type": "code",
        "colab": {}
      },
      "cell_type": "code",
      "source": [
        "import numpy as np\n",
        "import matplotlib.pyplot as plt\n",
        "import scipy\n",
        "import scipy.signal\n",
        "from scipy.io import wavfile\n",
        "import glob\n",
        "import os\n",
        "import librosa\n",
        "from sklearn.model_selection import train_test_split\n",
        "from keras import losses, models, optimizers\n",
        "from keras.activations import relu, softmax\n",
        "from keras.callbacks import (EarlyStopping, LearningRateScheduler,\n",
        "                             ModelCheckpoint, TensorBoard, ReduceLROnPlateau)\n",
        "from keras.layers import (Convolution1D, Dense, Dropout, GlobalAveragePooling1D, \n",
        "                          GlobalMaxPool1D, Input, MaxPool1D, concatenate)\n",
        "from keras.models import Model\n",
        "from keras.utils import Sequence, to_categorical"
      ],
      "execution_count": 0,
      "outputs": []
    },
    {
      "metadata": {
        "id": "ruJ8LYKmf0ko",
        "colab_type": "text"
      },
      "cell_type": "markdown",
      "source": [
        "### クラス・関数のインポート"
      ]
    },
    {
      "metadata": {
        "id": "iNWkU9Lzgb2Z",
        "colab_type": "text"
      },
      "cell_type": "markdown",
      "source": [
        "### Config\n",
        "  * nperseg：窓幅(STFT)\n",
        "  * hop_size：窓のずらし幅(STFT)\n",
        "  * freq_range：周波数[Hz]\n",
        "  * fs：サンプリング周波数[Hz]\n"
      ]
    },
    {
      "metadata": {
        "id": "nFRTQsikg1RN",
        "colab_type": "code",
        "colab": {}
      },
      "cell_type": "code",
      "source": [
        "class Config(object):\n",
        "    def __init__(self, nperseg=2**13, hop_size=2**7,\n",
        "                freq_range=[0,4000], fs = 44100,\n",
        "                n_class=2, input_length=100):\n",
        "        self.fs         = fs\n",
        "        self.nperseg    = nperseg     \n",
        "        self.hop_size   = hop_size\n",
        "        self.noverlap   = nperseg - hop_size\n",
        "        self.freq_range = np.array(freq_range)\n",
        "        \n",
        "        self.n_class      = n_class\n",
        "        self.input_length = input_length"
      ],
      "execution_count": 0,
      "outputs": []
    },
    {
      "metadata": {
        "id": "duU_QB19h6o_",
        "colab_type": "text"
      },
      "cell_type": "markdown",
      "source": [
        "### make_Image 関数\n",
        "  * filename：wavファイルのパス\n",
        "  * config：Configのインスタンス\n",
        "  * pngname：保存画像名 Noneの場合表示のみ"
      ]
    },
    {
      "metadata": {
        "id": "jYFmDPQ6g-iC",
        "colab_type": "code",
        "colab": {}
      },
      "cell_type": "code",
      "source": [
        "def draw_image(filename, config, pngname=None):\n",
        "    fs, data = wavfile.read(filename)\n",
        "    data = data[:,0] / 32768\n",
        "    \n",
        "    fig = plt.figure(figsize=(3, 4))\n",
        "    ax_raw  = plt.axes([0.1, 0.8 , 0.8, 0.15])    \n",
        "    ax_stft = plt.axes([0.1, 0.45, 0.8, 0.25])    \n",
        "    ax_fft  = plt.axes([0.1, 0.1 , 0.8, 0.25])    \n",
        "    \n",
        "    title_text = filename.split('/')[-1] \n",
        "    \n",
        "    ax_raw.set_title(title_text)\n",
        "    ax_raw.plot(data)\n",
        "    \n",
        "    f, t, zxx = scipy.signal.stft(data, nperseg=config.nperseg, \\\n",
        "                                  noverlap=config.noverlap, fs=config.fs)\n",
        "    power = np.log10(np.abs(zxx))\n",
        "    ax_stft.set_ylim(config.freq_range)\n",
        "    ax_stft.pcolormesh(t, f, power, cmap='jet', vmin=-4.5, vmax=-3)\n",
        "\n",
        "    fft = np.average(power, axis=1)\n",
        "    ax_fft.set_xlim(config.freq_range)\n",
        "    ax_fft.set_ylim(-4.5,-3)\n",
        "    ax_fft.plot(f,fft)\n",
        "    \n",
        "    if pngname is None:\n",
        "        plt.show()\n",
        "    else:\n",
        "        plt.savefig(pngname)\n",
        "    "
      ],
      "execution_count": 0,
      "outputs": []
    },
    {
      "metadata": {
        "id": "_ShsXO56uX2I",
        "colab_type": "text"
      },
      "cell_type": "markdown",
      "source": [
        "### モデル取得関数"
      ]
    },
    {
      "metadata": {
        "id": "OlQI9orwuXw5",
        "colab_type": "code",
        "colab": {}
      },
      "cell_type": "code",
      "source": [
        "def get_densely_connected_model(config):\n",
        "    '''\n",
        "    ref : https://keras.io/ja/getting-started/functional-api-guide/\n",
        "    例1.全結合ネットワーク\n",
        "    '''\n",
        "    nclass = config.n_class\n",
        "    input_length = config.input_length\n",
        "    \n",
        "    inputs = Input(shape=(input_length,))\n",
        "    \n",
        "    x = Dense(64, activation='relu')(inputs)\n",
        "    x = Dense(64, activation='relu')(x)\n",
        "    predictions = Dense(nclass, activation='softmax')(x)\n",
        "    \n",
        "    model = Model(inputs=inputs, outputs=predictions)\n",
        "    model.compile(optimizer='rmsprop',\n",
        "                  loss='categorical_crossentropy',\n",
        "                  metrics=['accuracy'])\n",
        "    return model"
      ],
      "execution_count": 0,
      "outputs": []
    },
    {
      "metadata": {
        "id": "uH7VMZTqhBEd",
        "colab_type": "text"
      },
      "cell_type": "markdown",
      "source": [
        "## Run Smart Mill"
      ]
    },
    {
      "metadata": {
        "id": "STI7FOHJqDHm",
        "colab_type": "text"
      },
      "cell_type": "markdown",
      "source": [
        "### データセットの可視化"
      ]
    },
    {
      "metadata": {
        "id": "lkLwgg4Eg_gM",
        "colab_type": "code",
        "colab": {}
      },
      "cell_type": "code",
      "source": [
        "if __name__ == '__main__':\n",
        "    config = Config()\n",
        "    dirname = '/content/drive/My Drive/smartmill/dryer_sample/'\n",
        "    filenames = glob.glob(dirname + '*.wav')\n",
        "    for f in filenames[::10]:\n",
        "        '''10は間引き\n",
        "        '''\n",
        "        pngname = f.split('/')[-1].replace('.wav', '.png')\n",
        "        draw_image(f, config, pngname)"
      ],
      "execution_count": 0,
      "outputs": []
    },
    {
      "metadata": {
        "id": "h7XE1Bm7qiGH",
        "colab_type": "text"
      },
      "cell_type": "markdown",
      "source": [
        "### 学習&評価"
      ]
    },
    {
      "metadata": {
        "id": "GnBbkIe-g_jI",
        "colab_type": "code",
        "colab": {
          "base_uri": "https://localhost:8080/",
          "height": 391
        },
        "outputId": "f20d7954-e78c-4944-e0fb-1221344d7f21"
      },
      "cell_type": "code",
      "source": [
        "if __name__ == '__main__':\n",
        "    config = Config()\n",
        "    dirname = '/content/drive/My Drive/smartmill/dryer_sample/'\n",
        "    filenames = glob.glob(dirname + '*.wav')\n",
        "\n",
        "    datas  = []\n",
        "    labels = []\n",
        "    tag2label = {'cold'  : np.array([1.0, 0.0]),\n",
        "                 'turbo' : np.array([0.0, 1.0])}\n",
        "    for filename in filenames:\n",
        "        for i in range(100):\n",
        "            fs, data = wavfile.read(filename)\n",
        "            data = data[:,0] / 32768\n",
        "            data = data[100*i:100*i+100]\n",
        "            datas.append(data)\n",
        "\n",
        "            tag = filename.split('/')[-1].split('_')[0]\n",
        "            label = tag2label[tag]\n",
        "            labels.append(label)\n",
        "    \n",
        "    datas  = np.array(datas)\n",
        "    labels = np.array(labels)\n",
        "    \n",
        "    model = get_densely_connected_model(config)\n",
        "    \n",
        "    X_train, X_test, y_train, y_test = train_test_split(\n",
        "        datas, labels, test_size=0.33, random_state=42)\n",
        "    \n",
        "    model.fit(X_train, y_train, epochs=10, batch_size=5)\n",
        "    \n",
        "    loss_and_metric = model.evaluate(X_test, y_test, batch_size=5)\n",
        "    print(loss_and_metric)"
      ],
      "execution_count": 46,
      "outputs": [
        {
          "output_type": "stream",
          "text": [
            "Epoch 1/10\n",
            "3819/3819 [==============================] - 5s 1ms/step - loss: 0.3440 - acc: 0.9068\n",
            "Epoch 2/10\n",
            "3819/3819 [==============================] - 4s 966us/step - loss: 0.0447 - acc: 0.9914\n",
            "Epoch 3/10\n",
            "3819/3819 [==============================] - 4s 964us/step - loss: 0.0128 - acc: 0.9979\n",
            "Epoch 4/10\n",
            "3819/3819 [==============================] - 4s 923us/step - loss: 0.0055 - acc: 0.9990\n",
            "Epoch 5/10\n",
            "3819/3819 [==============================] - 3s 855us/step - loss: 0.0022 - acc: 0.9995\n",
            "Epoch 6/10\n",
            "3819/3819 [==============================] - 3s 842us/step - loss: 5.2347e-04 - acc: 1.0000\n",
            "Epoch 7/10\n",
            "3819/3819 [==============================] - 3s 838us/step - loss: 1.3825e-04 - acc: 1.0000\n",
            "Epoch 8/10\n",
            "3819/3819 [==============================] - 3s 843us/step - loss: 3.8147e-05 - acc: 1.0000\n",
            "Epoch 9/10\n",
            "3819/3819 [==============================] - 3s 875us/step - loss: 9.1611e-05 - acc: 1.0000\n",
            "Epoch 10/10\n",
            "3819/3819 [==============================] - 4s 1ms/step - loss: 2.4481e-06 - acc: 1.0000\n",
            "1881/1881 [==============================] - 1s 546us/step\n",
            "[0.024070204128510297, 0.9925571508955157]\n"
          ],
          "name": "stdout"
        }
      ]
    },
    {
      "metadata": {
        "id": "MMG9evYe661f",
        "colab_type": "code",
        "colab": {}
      },
      "cell_type": "code",
      "source": [
        ""
      ],
      "execution_count": 0,
      "outputs": []
    }
  ]
}